{
 "cells": [
  {
   "cell_type": "code",
   "execution_count": 3,
   "id": "8ee86509",
   "metadata": {},
   "outputs": [
    {
     "name": "stdout",
     "output_type": "stream",
     "text": [
      "if you want calculator enter (1) if you want check even or odd number enter (2) if you want factorial number enter (3) if you want exit enter (4)4\n",
      "exit\n"
     ]
    }
   ],
   "source": [
    "y=0\n",
    "\n",
    "g=1\n",
    "while g>y:\n",
    "    check=input(\"if you want calculator enter (1) if you want check even or odd number enter (2) if you want factorial number enter (3) if you want exit enter (4)\")\n",
    "\n",
    "    if check == (\"1\"):\n",
    "        Num1=float(input(\"please enter the first number\"))\n",
    "        operator =input(\"please enter the operator\")\n",
    "        Num2=float(input(\"please enter the second number\"))\n",
    "        if operator ==(\"+\"):\n",
    "            print(Num1+Num2)\n",
    "        elif operator == (\"-\") : \n",
    "            print(Num1-Num2)\n",
    "        elif operator == (\"/\") :\n",
    "            print(Num1/Num2)\n",
    "        elif operator == (\"*\"):\n",
    "            print(Num1*Num2) \n",
    "        else:\n",
    "            print(\"wrong operator\")\n",
    "        \n",
    "    elif check == (\"2\"):\n",
    "        Num1=float(input(\"please enter the  number\"))\n",
    "        if (Num1 % 2) == 0:\n",
    "            print(\"{0} is Even\".format(Num1))\n",
    "        else:\n",
    "            print(\"{0} is Odd\".format(Num1))\n",
    "    elif check == (\"3\"):\n",
    "        Num1=int(input(\"please enter the  number\"))\n",
    "        factorial = 1\n",
    "        if Num1 >= 1:\n",
    "            for i in range(1,Num1+1):\n",
    "                factorial  = factorial*i\n",
    "            print(factorial)\n",
    "        else:    \n",
    "            print(\"erroe number\")\n",
    "            \n",
    "    elif check == (\"4\"):\n",
    "        y=1000000000000000\n",
    "        print(\"exit\")\n",
    "    \n",
    "    \n",
    "    g=g+1        \n",
    "\n"
   ]
  },
  {
   "cell_type": "code",
   "execution_count": null,
   "id": "6192e911",
   "metadata": {},
   "outputs": [],
   "source": []
  }
 ],
 "metadata": {
  "kernelspec": {
   "display_name": "Python 3 (ipykernel)",
   "language": "python",
   "name": "python3"
  },
  "language_info": {
   "codemirror_mode": {
    "name": "ipython",
    "version": 3
   },
   "file_extension": ".py",
   "mimetype": "text/x-python",
   "name": "python",
   "nbconvert_exporter": "python",
   "pygments_lexer": "ipython3",
   "version": "3.9.12"
  }
 },
 "nbformat": 4,
 "nbformat_minor": 5
}
