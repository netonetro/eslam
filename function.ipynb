{
 "cells": [
  {
   "cell_type": "code",
   "execution_count": null,
   "id": "9a7c02ae",
   "metadata": {},
   "outputs": [],
   "source": [
    "def information(first_name,last_name,gender,iD ):\n",
    "    print(\"the first name is\" + first_name)\n",
    "    print(\"the last name is\" + last_name)\n",
    "    print(\"the gender is\" + gender)\n",
    "    print(\"the iD is\" + iD)\n",
    "the_first_name = input(\"the first name is : \")   \n",
    "the_last_name = input(\"the last name is : \")\n",
    "the_gender = input(\"the gender is : \")\n",
    "the_iD = input(\"the iD is : \")\n",
    "print(\"\")\n",
    "print(\"\")\n",
    "\n",
    "\n",
    "information(the_first_name,the_last_name,the_gender,the_iD)"
   ]
  },
  {
   "cell_type": "code",
   "execution_count": null,
   "id": "35bd1618",
   "metadata": {},
   "outputs": [],
   "source": []
  },
  {
   "cell_type": "code",
   "execution_count": null,
   "id": "8bd36209",
   "metadata": {},
   "outputs": [],
   "source": []
  }
 ],
 "metadata": {
  "kernelspec": {
   "display_name": "Python 3 (ipykernel)",
   "language": "python",
   "name": "python3"
  },
  "language_info": {
   "codemirror_mode": {
    "name": "ipython",
    "version": 3
   },
   "file_extension": ".py",
   "mimetype": "text/x-python",
   "name": "python",
   "nbconvert_exporter": "python",
   "pygments_lexer": "ipython3",
   "version": "3.9.12"
  }
 },
 "nbformat": 4,
 "nbformat_minor": 5
}
